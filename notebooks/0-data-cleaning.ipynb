{
 "cells": [
  {
   "cell_type": "markdown",
   "id": "1299e5dc",
   "metadata": {},
   "source": [
    "# Data Cleaning\n",
    "\n",
    "This is a project aimed at helping lawyers doing cross-jurisdictional research by helping them quickly match a legislation provision of interest to its equivalent in another jurisdiction using vector similarity. \n",
    "\n",
    "This notebook is for data cleaning specific to the example data used for the first version of this project, specifically,\n",
    "- Singapore Copyright Act & UK Copyright, Designs and Patents Act (CDPA)\n",
    "- Singapore and UK Trade Marks Acts\n",
    "- Singapore Personal Data Protection Act and European Union (EU) General Data Protection Regulation (GDPR)\n",
    "\n",
    "For the first version of this project, everything is kept at section level granularity, and only one legislation per jurisdiction is matched to another's at a time.\n",
    "\n",
    "Unfortunately, **the raw legislation data will not be uploaded to the repository** to stay clear of permission issues. The scripts to parse the html will also not be uploaded for similar reasons.\n",
    "\n",
    "The cleaning in this notebook is done based on the particular quirks of the output of the parsed legislation html, and thus will likely not be entirely relevant for those using their own data. Users who wish to try out on their own gathered data should just use thie notebook as reference to prepare their data in the required format for use in the the subsequent notebooks.\n",
    "\n",
    "**Refer to subsequent notebooks to read more about motivations for the project, word embedding methods and analysis.**"
   ]
  },
  {
   "cell_type": "markdown",
   "id": "21e5c225",
   "metadata": {},
   "source": [
    "## Imports and Loading Data"
   ]
  },
  {
   "cell_type": "code",
   "execution_count": 1,
   "id": "73806048",
   "metadata": {},
   "outputs": [],
   "source": [
    "import numpy as np\n",
    "import pandas as pd\n",
    "import matplotlib.pyplot as plt\n",
    "import re"
   ]
  },
  {
   "cell_type": "markdown",
   "id": "2bcd2ef5",
   "metadata": {},
   "source": [
    "## Data Formatting"
   ]
  },
  {
   "cell_type": "markdown",
   "id": "a90e1f70",
   "metadata": {},
   "source": [
    "### Specify ID Column Name"
   ]
  },
  {
   "cell_type": "markdown",
   "id": "48b9ca34",
   "metadata": {},
   "source": [
    "When we prepare the dataframes, we will have a column that uniquely identifies the entry. \n",
    "\n",
    "Given the small scope of this project where each dataset will only contain one legislation from each jurisdiction, the id_col will be named 'sec' for convenience, so that the section number data can eventually be dropped and just referenced based on the id.\n",
    "\n",
    "Likewise, the entry will be identified just based on the jurisdiction + provision number. For example, SG Trade Mark Act section 5 will simply have id 'sg_5', and UK Trade Mark Act section 10 will have id 'uk_10'.\n",
    "\n",
    "The unique identifier will be used for the matching later, and the format is important when specifying answer keys for the evaluation scripts to run on.\n",
    "\n",
    "For users wishing to expand the scope of this application, the `id_col` can be named to something more appropriate than 'sec', and the format for creating id numbers can be more sophisticated to account for multiple legislation per jurisdiction, or different provision granularity like divisions or subsections."
   ]
  },
  {
   "cell_type": "code",
   "execution_count": 2,
   "id": "46598468",
   "metadata": {},
   "outputs": [],
   "source": [
    "id_col = 'sec'"
   ]
  },
  {
   "cell_type": "markdown",
   "id": "9441b1c7",
   "metadata": {},
   "source": [
    "### Output Format\n",
    "\n",
    "At the end of notebook, the output data should be in the following format, with the legislation data from the two jurisdictions merged with the first jurisdictions data all above the second's.\n",
    "\n",
    "For those preparing and cleaning their own data without this notebook, this is the format to take note of to use the data with subsequent notebook's scripts.\n",
    "\n",
    "The outputs below demo based on data for the SG Copyright Act and UK CDPA, but do note as mentioned, the data files containing legislation content will not be in the repo."
   ]
  },
  {
   "cell_type": "code",
   "execution_count": 3,
   "id": "55b9c0e6",
   "metadata": {},
   "outputs": [],
   "source": [
    "required_output_cols = [id_col, 'title', 'url', 'cleaned']"
   ]
  },
  {
   "cell_type": "code",
   "execution_count": 4,
   "id": "058b1b9a",
   "metadata": {},
   "outputs": [],
   "source": [
    "# path name to save merged file to\n",
    "save_merged_path = '../data/clean/copyright/sg_uk_copyright_test.csv'"
   ]
  },
  {
   "cell_type": "markdown",
   "id": "e69acdb8",
   "metadata": {},
   "source": [
    "<br>"
   ]
  },
  {
   "cell_type": "markdown",
   "id": "a6730dde",
   "metadata": {},
   "source": [
    "## Cleaning and Preparing SG and UK Data"
   ]
  },
  {
   "cell_type": "markdown",
   "id": "582d4a95",
   "metadata": {},
   "source": [
    "Jurisdiction A will be the input jurisdiction, for the purposes of v1 of this project, it will always be Singapore.\n",
    "\n",
    "Jurisdiction B will be the output jurisdiction, and will be the UK for the Copyright and Trade Mark legislation, and the EU for the Data Protection legislation."
   ]
  },
  {
   "cell_type": "code",
   "execution_count": 5,
   "id": "75ff5540",
   "metadata": {},
   "outputs": [],
   "source": [
    "juris_A = 'sg'\n",
    "juris_B = 'uk'"
   ]
  },
  {
   "cell_type": "markdown",
   "id": "19a4e99e",
   "metadata": {},
   "source": [
    "The data to be loaded already contains columns for legislation section no., title and content. "
   ]
  },
  {
   "cell_type": "code",
   "execution_count": 6,
   "id": "fa3d3723",
   "metadata": {},
   "outputs": [],
   "source": [
    "# example for SG and UK trade mark legislation; raw data will not be uploaded to git repo\n",
    "juris_A_filepath = '../data/raw/sg_copyright_act_data.csv'\n",
    "juris_B_filepath = '../data/raw/uk_cdpa_data.csv'"
   ]
  },
  {
   "cell_type": "code",
   "execution_count": 7,
   "id": "a2dff6e2",
   "metadata": {},
   "outputs": [],
   "source": [
    "df_A = pd.read_csv(juris_A_filepath)\n",
    "df_B = pd.read_csv(juris_B_filepath)"
   ]
  },
  {
   "cell_type": "markdown",
   "id": "19773364",
   "metadata": {},
   "source": [
    "It would be convenient to have the urls prepared, but there are functions below to generate the urls if not grabbed at the html parsing stage. These urls are not crucial for getting the legislation matching to work, but are convenient to have downstream to facilitate easier consumption of the matched legislation.\n",
    "\n",
    "To prepare the base_url, get any example of the legislation, take notice where the provision number sits in the URL, and replace the provision number with a token like <SECNO> for easier replacement later. See below base_url examples."
   ]
  },
  {
   "cell_type": "code",
   "execution_count": 8,
   "id": "af44458f",
   "metadata": {},
   "outputs": [],
   "source": [
    "# example for SG and UK trade mark legislation\n",
    "juris_A_base_url = 'sso.agc.gov.sg/Act/TMA1998#pr<SECNO>-'\n",
    "juris_B_base_url = 'www.legislation.gov.uk/ukpga/1994/26/section/<SECNO>'"
   ]
  },
  {
   "cell_type": "code",
   "execution_count": 9,
   "id": "8e086dde",
   "metadata": {},
   "outputs": [],
   "source": [
    "def make_url(section_no, base_url, sec_token='<SECNO>'):\n",
    "    return base_url.replace(sec_token, section_no)"
   ]
  },
  {
   "cell_type": "markdown",
   "id": "edbd2437",
   "metadata": {},
   "source": [
    "### Clean SG Legislation Data\n",
    "\n",
    "Assuming `df_A` is Singapore Legislation."
   ]
  },
  {
   "cell_type": "markdown",
   "id": "5b230e57",
   "metadata": {},
   "source": [
    "Create a new field of combined title and content so that we can embed the combined information later."
   ]
  },
  {
   "cell_type": "code",
   "execution_count": 10,
   "id": "3f2de39e",
   "metadata": {},
   "outputs": [],
   "source": [
    "df_A['cleaned'] = df_A['title'] + ' ' + df_A['content']"
   ]
  },
  {
   "cell_type": "markdown",
   "id": "35ce75d3",
   "metadata": {},
   "source": [
    "Clean out numbers, as a large amount of them are not helpful information when matching meaning between different jurisdictions."
   ]
  },
  {
   "cell_type": "code",
   "execution_count": 11,
   "id": "c0b60d69",
   "metadata": {},
   "outputs": [],
   "source": [
    "df_A['cleaned'] = df_A['cleaned'].map(lambda x: re.sub(r'\\d{1,4}', '', x).replace('()','').strip())"
   ]
  },
  {
   "cell_type": "markdown",
   "id": "02a8d0c3",
   "metadata": {},
   "source": [
    "Make urls if necessary."
   ]
  },
  {
   "cell_type": "code",
   "execution_count": 12,
   "id": "4e4b112d",
   "metadata": {},
   "outputs": [],
   "source": [
    "df_A['url'] = \\\n",
    "df_A['section'].map(lambda x: make_url(x, base_url=juris_A_base_url))"
   ]
  },
  {
   "cell_type": "markdown",
   "id": "4fd8b6ff",
   "metadata": {},
   "source": [
    "Create id column."
   ]
  },
  {
   "cell_type": "code",
   "execution_count": 13,
   "id": "24f51474",
   "metadata": {},
   "outputs": [],
   "source": [
    "df_A[id_col] = juris_A + '_' + df_A['section']"
   ]
  },
  {
   "cell_type": "markdown",
   "id": "fe1b98ee",
   "metadata": {},
   "source": [
    "Consolidate function for cleaning SG data."
   ]
  },
  {
   "cell_type": "code",
   "execution_count": 14,
   "id": "6b1bea5f",
   "metadata": {},
   "outputs": [],
   "source": [
    "def clean_sg(df, juris='sg', base_url=None):\n",
    "    df['cleaned'] = df['title'] + ' ' + df['content']\n",
    "    df['cleaned'] = df['cleaned'].map(lambda x: re.sub(r'\\d{1,4}', '', x).replace('()','').strip())\n",
    "    df[id_col] = juris + '_' + df['section']\n",
    "    \n",
    "    # specify base_url in function arguments if need to create url\n",
    "    if base_url:\n",
    "        df['url'] = \\\n",
    "        df['section'].map(lambda x: make_url(x, base_url=base_url))\n",
    "    \n",
    "    return df"
   ]
  },
  {
   "cell_type": "markdown",
   "id": "d6da861f",
   "metadata": {},
   "source": [
    "### Clean UK Legislation Data\n",
    "Assuming `df_B` is UK Legislation."
   ]
  },
  {
   "cell_type": "markdown",
   "id": "9104f22f",
   "metadata": {},
   "source": [
    "The following data cleaning is particular to the way the UK legislation HTML was parsed. There were pecularities such as stray lettering throughout the content.\n",
    "\n",
    "Improving the html parsing might result in some of the cleaning steps being redundant.\n",
    "\n",
    "Note that we do not need to merge the title and content as we did for SG, as the way the html was parsed already resulted in the section title appearing in the main content."
   ]
  },
  {
   "cell_type": "code",
   "execution_count": 15,
   "id": "fb0aaef8",
   "metadata": {},
   "outputs": [],
   "source": [
    "df_B = df_B.dropna()"
   ]
  },
  {
   "cell_type": "code",
   "execution_count": 16,
   "id": "95108ee7",
   "metadata": {},
   "outputs": [],
   "source": [
    "df_B['cleaned'] = df_B['content'].map(lambda x: x.replace('U.K.', ' '))\n",
    "df_B['cleaned'] =  df_B['cleaned'].map(lambda x: re.sub(r'F\\d{1,3}', ' ', x).replace('[','').strip())\n",
    "df_B['cleaned'] =  df_B['cleaned'].map(lambda x: re.sub(r'X\\d{1,3}', ' ', x).replace('[','').strip())\n",
    "df_B['cleaned'] = df_B['cleaned'].map(lambda x: re.sub(r'\\d{1,4}[A-Z]{0,2}\\s', '', x).strip())\n",
    "df_B['cleaned'] =  df_B['cleaned'].map(lambda x: re.sub(r'\\d{1,4}', '', x).replace('()','').strip())"
   ]
  },
  {
   "cell_type": "markdown",
   "id": "74dc51f5",
   "metadata": {},
   "source": [
    "Clean alphabets appearing at start of content that comes from section numbering."
   ]
  },
  {
   "cell_type": "code",
   "execution_count": 17,
   "id": "a7d2135b",
   "metadata": {},
   "outputs": [],
   "source": [
    "for _, row in df_B.iterrows():\n",
    "    if re.search(r'[A-Z]', row['section']) is not None:\n",
    "        sec_alpha = re.sub(r'\\d{1,3}', '', row['section'])\n",
    "        row['cleaned'] = re.sub(sec_alpha, '', row['cleaned'], count=1)"
   ]
  },
  {
   "cell_type": "markdown",
   "id": "ecc6c763",
   "metadata": {},
   "source": [
    "Some UK legislation have stray 'n1's appearing where 'A' should appear in the section numbers. Fix this."
   ]
  },
  {
   "cell_type": "code",
   "execution_count": 18,
   "id": "f2ab92bd",
   "metadata": {},
   "outputs": [],
   "source": [
    "df_B['section'] = df_B['section'].map(lambda x: x.replace('n1', 'A'))"
   ]
  },
  {
   "cell_type": "markdown",
   "id": "8fc82144",
   "metadata": {},
   "source": [
    "Unfortunately, there are some 'valid' UK legislation sections where the content should be empty but the web content contains some explanatory text and a lot of '....', these seem to be some problematic legislation in the process of being worked out due to Brexit.\n",
    "\n",
    "These rows have to manually inspected. A more elegant way is to dig deeper to account for all the content patterns for these situations, but for the purposes of this version, we will have to quickly inspect and remove such provisions."
   ]
  },
  {
   "cell_type": "code",
   "execution_count": null,
   "id": "00432674",
   "metadata": {},
   "outputs": [],
   "source": [
    "# df_B[['section','cleaned']]"
   ]
  },
  {
   "cell_type": "code",
   "execution_count": 19,
   "id": "5e7b4fd3",
   "metadata": {},
   "outputs": [],
   "source": [
    "# example rows (actual df rows, not sec numbers) \n",
    "# for cdpa\n",
    "drop_rows = [7, 10, 19, 58, 59, 60, 61, 71, 113, 178, 179, 381, 384, 400, 401, 402, 433]\n",
    "\n",
    "# for tm act\n",
    "# drop_rows = [71]"
   ]
  },
  {
   "cell_type": "code",
   "execution_count": 20,
   "id": "3601c1c5",
   "metadata": {},
   "outputs": [],
   "source": [
    "df_B = df_B.drop(index=drop_rows)"
   ]
  },
  {
   "cell_type": "markdown",
   "id": "d4884f0f",
   "metadata": {},
   "source": [
    "Make urls if necessary."
   ]
  },
  {
   "cell_type": "code",
   "execution_count": 21,
   "id": "b73b2a82",
   "metadata": {},
   "outputs": [],
   "source": [
    "df_B['url'] = \\\n",
    "df_B['section'].map(lambda x: make_url(x, base_url=juris_B_base_url))"
   ]
  },
  {
   "cell_type": "markdown",
   "id": "529139de",
   "metadata": {},
   "source": [
    "Create id column."
   ]
  },
  {
   "cell_type": "code",
   "execution_count": 22,
   "id": "930d0bf8",
   "metadata": {},
   "outputs": [],
   "source": [
    "df_B[id_col] = juris_B + '_' + df_B['section']"
   ]
  },
  {
   "cell_type": "markdown",
   "id": "836645a8",
   "metadata": {},
   "source": [
    "Consolidate function for cleaning UK data."
   ]
  },
  {
   "cell_type": "code",
   "execution_count": 23,
   "id": "2036f80f",
   "metadata": {},
   "outputs": [],
   "source": [
    "def clean_uk(df, juris='uk', base_url=None, drop_rows=None):\n",
    "    df = df.dropna()\n",
    "    df['cleaned'] = df['content'].map(lambda x: x.replace('U.K.', ' '))\n",
    "    df['cleaned'] =  df['cleaned'].map(lambda x: re.sub(r'F\\d{1,3}', ' ', x).replace('[','').strip())\n",
    "    df['cleaned'] =  df['cleaned'].map(lambda x: re.sub(r'X\\d{1,3}', ' ', x).replace('[','').strip())\n",
    "    df['cleaned'] = df['cleaned'].map(lambda x: re.sub(r'\\d{1,4}[A-Z]{0,2}\\s', '', x).strip())\n",
    "    df['cleaned'] =  df['cleaned'].map(lambda x: re.sub(r'\\d{1,4}', '', x).replace('()','').strip())\n",
    "    \n",
    "    for _, row in df.iterrows():\n",
    "        if re.search(r'[A-Z]', row['section']) is not None:\n",
    "            sec_alpha = re.sub(r'\\d{1,3}', '', row['section'])\n",
    "            row['cleaned'] = re.sub(sec_alpha, '', row['cleaned'], count=1)\n",
    "\n",
    "    df['section'] = df['section'].map(lambda x: x.replace('n1', 'A'))\n",
    "    df[id_col] = juris + '_' + df['section']\n",
    "    \n",
    "    # drop_rows should take a list of the indices to be dropped\n",
    "    if drop_rows:\n",
    "        df = df.drop(index=drop_rows)\n",
    "    \n",
    "    # specify base_url in function arguments if need to create url\n",
    "    if base_url:\n",
    "        df['url'] = \\\n",
    "        df['section'].map(lambda x: make_url(x, base_url=base_url))\n",
    "    \n",
    "    return df"
   ]
  },
  {
   "cell_type": "markdown",
   "id": "47f181c7",
   "metadata": {},
   "source": [
    "### Merge SG and UK Data"
   ]
  },
  {
   "cell_type": "code",
   "execution_count": 24,
   "id": "f39adb09",
   "metadata": {},
   "outputs": [],
   "source": [
    "merged = pd.concat([df_A[required_output_cols], df_B[required_output_cols]])"
   ]
  },
  {
   "cell_type": "code",
   "execution_count": null,
   "id": "2c18a8f1",
   "metadata": {},
   "outputs": [],
   "source": [
    "## for additional clarity, same as\n",
    "## merged = pd.concat([df_A[[id_col, 'title', 'url', 'cleaned']], df_B[[id_col, 'title', 'url', 'cleaned']]])"
   ]
  },
  {
   "cell_type": "code",
   "execution_count": 25,
   "id": "1d1ebf05",
   "metadata": {},
   "outputs": [
    {
     "data": {
      "text/plain": [
       "(780, 4)"
      ]
     },
     "execution_count": 25,
     "metadata": {},
     "output_type": "execute_result"
    }
   ],
   "source": [
    "merged.shape"
   ]
  },
  {
   "cell_type": "markdown",
   "id": "55632138",
   "metadata": {},
   "source": [
    "Save data."
   ]
  },
  {
   "cell_type": "code",
   "execution_count": null,
   "id": "43675c0c",
   "metadata": {},
   "outputs": [],
   "source": [
    "# save_merged_path = ''"
   ]
  },
  {
   "cell_type": "code",
   "execution_count": 26,
   "id": "d0bde640",
   "metadata": {},
   "outputs": [],
   "source": [
    "merged.to_csv(save_merged_path, index=False)"
   ]
  },
  {
   "cell_type": "markdown",
   "id": "9bcbf612",
   "metadata": {},
   "source": [
    "<br>"
   ]
  },
  {
   "cell_type": "markdown",
   "id": "82ca1e12",
   "metadata": {},
   "source": [
    "## Get Sense of Word Count\n",
    "\n",
    "Word count will be important to get an estimate of for the later embedding steps. For example, BERT only accepts up to 512 tokens at a time, so we need to be aware of how much of the data might be affected through truncating after 512 tokens if we choose to."
   ]
  },
  {
   "cell_type": "code",
   "execution_count": 27,
   "id": "8f44f1d3",
   "metadata": {},
   "outputs": [
    {
     "data": {
      "text/plain": [
       "Text(0, 0.5, 'Documents')"
      ]
     },
     "execution_count": 27,
     "metadata": {},
     "output_type": "execute_result"
    },
    {
     "data": {
      "image/png": "[encoded data removed]",
      "text/plain": [
       "<Figure size 432x288 with 1 Axes>"
      ]
     },
     "metadata": {
      "needs_background": "light"
     },
     "output_type": "display_data"
    }
   ],
   "source": [
    "merged['cleaned'].map(lambda x: len(x.split(' '))).hist()\n",
    "plt.title('Word Count')\n",
    "plt.xlabel('Word Count')\n",
    "plt.ylabel('Documents')"
   ]
  },
  {
   "cell_type": "markdown",
   "id": "222adce3",
   "metadata": {},
   "source": [
    "<br>"
   ]
  },
  {
   "cell_type": "markdown",
   "id": "9356e1ba",
   "metadata": {},
   "source": [
    "## Cleaning and Preparing SG and EU Data\n",
    "Data Protection Laws"
   ]
  },
  {
   "cell_type": "markdown",
   "id": "c2f71ffb",
   "metadata": {},
   "source": [
    "Jurisdiction A is Singapore.\n",
    "\n",
    "Jurisdiction B is the EU for the Data Protection legislation."
   ]
  },
  {
   "cell_type": "code",
   "execution_count": null,
   "id": "85339ec7",
   "metadata": {},
   "outputs": [],
   "source": [
    "juris_A = 'sg'\n",
    "juris_B = 'eu'"
   ]
  },
  {
   "cell_type": "code",
   "execution_count": null,
   "id": "9ccd3562",
   "metadata": {},
   "outputs": [],
   "source": [
    "# example for SG and EU data protection legislation; raw data will not be uploaded to git repo\n",
    "juris_A_filepath = '../data/raw/sg_pdpa_data.csv'\n",
    "juris_B_filepath = '../data/raw/gdpr_data.csv'"
   ]
  },
  {
   "cell_type": "code",
   "execution_count": null,
   "id": "96212f0e",
   "metadata": {},
   "outputs": [],
   "source": [
    "df_A = pd.read_csv(juris_A_filepath)\n",
    "df_B = pd.read_csv(juris_B_filepath)"
   ]
  },
  {
   "cell_type": "code",
   "execution_count": null,
   "id": "bea613fe",
   "metadata": {},
   "outputs": [],
   "source": [
    "# example for SG and EU data protection laws\n",
    "juris_A_base_url = 'sso.agc.gov.sg/Act/PDPA2012#pr<SECNO>-'\n",
    "juris_B_base_url = 'gdpr.eu/article-<SECNO>'"
   ]
  },
  {
   "cell_type": "markdown",
   "id": "ff8c26e1",
   "metadata": {},
   "source": [
    "### Clean SG Legislation Data\n",
    "\n",
    "Use the clean_sg function defined above."
   ]
  },
  {
   "cell_type": "code",
   "execution_count": null,
   "id": "7fc26b60",
   "metadata": {},
   "outputs": [],
   "source": [
    "df_A = clean_sg(df_A, base_url=juris_A_base_url)"
   ]
  },
  {
   "cell_type": "markdown",
   "id": "2873c6c3",
   "metadata": {},
   "source": [
    "### Clean EU GDPR Data\n",
    "\n",
    "`df_B` is now EU GDPR data.\n",
    "\n",
    "The format is different from UK legislation and requires separate cleaning."
   ]
  },
  {
   "cell_type": "markdown",
   "id": "d839d298",
   "metadata": {},
   "source": [
    "Like for SG, create a new field of combined title and content so that we can embed the combined information later.\n",
    "\n",
    "Clean numbers (with dots after, dots included, and in general), brackets, and slashes. "
   ]
  },
  {
   "cell_type": "code",
   "execution_count": null,
   "id": "ef3536cf",
   "metadata": {},
   "outputs": [],
   "source": [
    "df_B['cleaned'] df_B['title'] + ' ' + df_B['content']\n",
    "df_B['cleaned'] = df_B['cleaned'].map(lambda x: re.sub(r'\\d{1,4}\\.', '', x).strip())\n",
    "df_B['cleaned'] = df_B['cleaned'].map(lambda x: re.sub(r'\\d{1,4}', '', x).replace('()','').replace('/', '').strip())"
   ]
  },
  {
   "cell_type": "markdown",
   "id": "cda0ca42",
   "metadata": {},
   "source": [
    "Create id column. Ensure the word 'Article ' is removed, just preserving the number. We will treat GDPR articles as sections for the purpose of this exercise."
   ]
  },
  {
   "cell_type": "code",
   "execution_count": null,
   "id": "258356a8",
   "metadata": {},
   "outputs": [],
   "source": [
    "df_B[id_col] = juris_B + '_' + df_B['section'].map(lambda x: x.replace('Article ', ''))"
   ]
  },
  {
   "cell_type": "code",
   "execution_count": null,
   "id": "ac6b4c2c",
   "metadata": {},
   "outputs": [],
   "source": [
    "df_B['url'] = \\\n",
    "df_B['section'].map(lambda x: make_url(x.replace('Article ',''), base_url=juris_B_base_url))"
   ]
  },
  {
   "cell_type": "markdown",
   "id": "5d3217cb",
   "metadata": {},
   "source": [
    "Consolidate function for cleaning EU data."
   ]
  },
  {
   "cell_type": "code",
   "execution_count": null,
   "id": "18a252af",
   "metadata": {},
   "outputs": [],
   "source": [
    "def clean_eu(df, juris='eu', base_url=None):\n",
    "    df['cleaned'] = df['title'] + ' ' + df_B['content']\n",
    "    df['cleaned'] = df['cleaned'].map(lambda x: re.sub(r'\\d{1,4}\\.', '', x).strip())\n",
    "    df['cleaned'] = df['cleaned'].map(lambda x: re.sub(r'\\d{1,4}', '', x).replace('()','').replace('/', '').strip())\n",
    "    df[id_col] = juris + '_' + df['section'].map(lambda x: x.replace('Article ', ''))\n",
    "    # specify base_url in function arguments if need to create url\n",
    "    if base_url:\n",
    "        df['url'] = \\\n",
    "        df['section'].map(lambda x: make_url(x.replace('Article ',''), base_url=juris_B_base_url))\n",
    "    \n",
    "    return df"
   ]
  },
  {
   "cell_type": "markdown",
   "id": "481d7d6a",
   "metadata": {},
   "source": [
    "### Merge SG and EU Data"
   ]
  },
  {
   "cell_type": "code",
   "execution_count": null,
   "id": "0f53bcc0",
   "metadata": {},
   "outputs": [],
   "source": [
    "merged = pd.concat([df_A[required_output_cols], df_B[required_output_cols]])"
   ]
  },
  {
   "cell_type": "code",
   "execution_count": null,
   "id": "d1b72316",
   "metadata": {},
   "outputs": [],
   "source": [
    "merged.shape"
   ]
  },
  {
   "cell_type": "markdown",
   "id": "1302d0a0",
   "metadata": {},
   "source": [
    "Save data."
   ]
  },
  {
   "cell_type": "code",
   "execution_count": null,
   "id": "81842126",
   "metadata": {},
   "outputs": [],
   "source": [
    "save_merged_path = ''"
   ]
  },
  {
   "cell_type": "code",
   "execution_count": null,
   "id": "5ccbe796",
   "metadata": {},
   "outputs": [],
   "source": [
    "merged.to_csv(save_merged_path, index=False)"
   ]
  },
  {
   "cell_type": "markdown",
   "id": "42291796",
   "metadata": {},
   "source": [
    "<br>"
   ]
  }
 ],
 "metadata": {
  "kernelspec": {
   "display_name": "Python 3",
   "language": "python",
   "name": "python3"
  },
  "language_info": {
   "codemirror_mode": {
    "name": "ipython",
    "version": 3
   },
   "file_extension": ".py",
   "mimetype": "text/x-python",
   "name": "python",
   "nbconvert_exporter": "python",
   "pygments_lexer": "ipython3",
   "version": "3.8.10"
  }
 },
 "nbformat": 4,
 "nbformat_minor": 5
}
